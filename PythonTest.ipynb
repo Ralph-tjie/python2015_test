{
 "metadata": {
  "name": "",
  "signature": "sha256:441529346c0e5f6663fce85a95e7dc7c1577bf39cc24d489e6b52ff8bde79e7e"
 },
 "nbformat": 3,
 "nbformat_minor": 0,
 "worksheets": [
  {
   "cells": [
    {
     "cell_type": "code",
     "collapsed": false,
     "input": [
      "import sys\n",
      "import os\n",
      "import os.path\n",
      "sys.path.append(os.path.join(os.getcwd(), 'lib'))\n",
      "from test import python_test"
     ],
     "language": "python",
     "metadata": {},
     "outputs": [],
     "prompt_number": 3
    },
    {
     "cell_type": "markdown",
     "metadata": {},
     "source": [
      "Please register by putting your name and email address in the `register` line below:"
     ]
    },
    {
     "cell_type": "code",
     "collapsed": false,
     "input": [
      "python_test.register('Your name', 'email@somewhere.ac.za')"
     ],
     "language": "python",
     "metadata": {},
     "outputs": [
      {
       "metadata": {},
       "output_type": "pyout",
       "prompt_number": 4,
       "text": [
        "'Thank you Your name'"
       ]
      }
     ],
     "prompt_number": 4
    },
    {
     "cell_type": "code",
     "collapsed": false,
     "input": [
      "python_test.register('Zandile', 'zandile.sibisi@yahoo.com')"
     ],
     "language": "python",
     "metadata": {},
     "outputs": [
      {
       "metadata": {},
       "output_type": "pyout",
       "prompt_number": 5,
       "text": [
        "'Thank you Zandile'"
       ]
      }
     ],
     "prompt_number": 5
    },
    {
     "cell_type": "markdown",
     "metadata": {},
     "source": [
      "**(1)** Write a function `multiply(x, y)` that returns the results of multiplying `x` and `y`. I.e. \n",
      "\n",
      "        result = multiply(5, 10)\n",
      "        print result\n",
      " \n",
      " would print `50`.\n",
      " \n",
      " **Marks:** 1"
     ]
    },
    {
     "cell_type": "code",
     "collapsed": false,
     "input": [
      "def multiply(x,y):\n",
      "    result = x * y\n",
      "    print result"
     ],
     "language": "python",
     "metadata": {},
     "outputs": [],
     "prompt_number": 30
    },
    {
     "cell_type": "code",
     "collapsed": false,
     "input": [
      "multiply(5,4)"
     ],
     "language": "python",
     "metadata": {},
     "outputs": [
      {
       "output_type": "stream",
       "stream": "stdout",
       "text": [
        "20\n"
       ]
      }
     ],
     "prompt_number": 65
    },
    {
     "cell_type": "code",
     "collapsed": false,
     "input": [
      "python_test.run_test(1, multiply)"
     ],
     "language": "python",
     "metadata": {},
     "outputs": [
      {
       "output_type": "stream",
       "stream": "stdout",
       "text": [
        "1\n",
        "Incorrect\n"
       ]
      }
     ],
     "prompt_number": 31
    },
    {
     "cell_type": "markdown",
     "metadata": {},
     "source": [
      "**(2)** To calculate the product of a list of numbers you multiply them together, so e.g. the product of 1, 2, 3, and 4 is 1 \u00d7 2 \u00d7 3 \u00d7 4, i.e. 24. Write a python function `product_of(thelist)` that returns the product of all the numbers in `thelist`. E.g.\n",
      "\n",
      "        mylist = [1,2,3,4]\n",
      "        result = product_of(mylist)\n",
      "        print result\n",
      "        \n",
      "would print `24`.\n",
      "\n",
      "**Marks:** 3"
     ]
    },
    {
     "cell_type": "code",
     "collapsed": false,
     "input": [
      "def product_of(thelist):\n",
      "    result = 1\n",
      "    for number in thelist:\n",
      "        result = result * number\n",
      "    print result"
     ],
     "language": "python",
     "metadata": {},
     "outputs": [],
     "prompt_number": 62
    },
    {
     "cell_type": "code",
     "collapsed": false,
     "input": [
      "product_of([1,2,3,4])"
     ],
     "language": "python",
     "metadata": {},
     "outputs": [
      {
       "output_type": "stream",
       "stream": "stdout",
       "text": [
        "24\n"
       ]
      }
     ],
     "prompt_number": 63
    },
    {
     "cell_type": "code",
     "collapsed": false,
     "input": [
      "python_test.run_test(2, product_of)"
     ],
     "language": "python",
     "metadata": {},
     "outputs": [
      {
       "output_type": "stream",
       "stream": "stdout",
       "text": [
        "2\n",
        "Incorrect\n"
       ]
      }
     ],
     "prompt_number": 64
    },
    {
     "cell_type": "markdown",
     "metadata": {},
     "source": [
      "**(3)** The molecular weight (in g/mol) of a strand of (synthesised) single-stranded DNA can be computed by adding together the weights of the individual bases and then subtracting 61.96. The individual bases have these weights:\n",
      "\n",
      "        Adenine  313.2\n",
      "        Thymine  304.2\n",
      "        Cytosine 289.2\n",
      "        Guanine  329.2\n",
      "\n",
      "So for example the molecular weight of the string `GATACCA` is 2089.44. Write a function `mol_weight(dna_str)` that computes the molecular weight of strand of DNA. E.g. \n",
      "\n",
      "        weight = mol_weight('GATACCA')\n",
      "        print weight\n",
      "\n",
      "would print 2089.44.\n",
      "\n",
      "**Marks:** 5"
     ]
    },
    {
     "cell_type": "code",
     "collapsed": false,
     "input": [
      "def mol_weight(dna_str):\n",
      "    count_A = count_T = count_C = count_G = 0\n",
      "    for i in dna_str.upper():\n",
      "        if i == 'A':\n",
      "            count_A = count_A + 313.2\n",
      "        if i == 'T':\n",
      "            count_T = count_T + 304.2\n",
      "        if i == 'C':\n",
      "            count_C = count_C + 289.2\n",
      "        if i == 'G':\n",
      "            count_G = count_G + 329.2\n",
      "    weight = float(count_A + count_T + count_C + count_G) - 61.96\n",
      "    return weight"
     ],
     "language": "python",
     "metadata": {},
     "outputs": [],
     "prompt_number": 17
    },
    {
     "cell_type": "code",
     "collapsed": false,
     "input": [
      "mol_weight('GATACCA')"
     ],
     "language": "python",
     "metadata": {},
     "outputs": [
      {
       "metadata": {},
       "output_type": "pyout",
       "prompt_number": 18,
       "text": [
        "2089.4399999999996"
       ]
      }
     ],
     "prompt_number": 18
    },
    {
     "cell_type": "code",
     "collapsed": false,
     "input": [
      "python_test.run_test(3, mol_weight)"
     ],
     "language": "python",
     "metadata": {},
     "outputs": [
      {
       "output_type": "stream",
       "stream": "stdout",
       "text": [
        "Correct\n"
       ]
      }
     ],
     "prompt_number": 25
    },
    {
     "cell_type": "markdown",
     "metadata": {},
     "source": [
      "**(4)** Write a function `longest_line(filename)` that returns the longest line in the file named by `filename`. E.g. if a file `myfile.txt` contained the following lines:\n",
      "\n",
      "        *****************\n",
      "        ***********\n",
      "        ***\n",
      "        ************************\n",
      "\n",
      "then\n",
      "\n",
      "        line = longest_line('myfile.txt')\n",
      "        print line\n",
      "\n",
      "would print\n",
      "\n",
      "        ************************\n",
      "\n",
      "You can test your function using the file `sample.txt`.\n",
      "        \n",
      "**Marks:** 5     "
     ]
    },
    {
     "cell_type": "code",
     "collapsed": false,
     "input": [
      "def longest_line(filename):\n",
      "    large_line = ''\n",
      "    large_line_len = 0\n",
      "    \n",
      "    with open(filename, 'r') as f:\n",
      "        for line in f:\n",
      "            if len(line) > large_line_len:\n",
      "                large_line_len = len(line)\n",
      "                large_line = line\n",
      "    \n",
      "    return large_line"
     ],
     "language": "python",
     "metadata": {},
     "outputs": [],
     "prompt_number": 85
    },
    {
     "cell_type": "code",
     "collapsed": false,
     "input": [
      "longest_line('sample.txt')"
     ],
     "language": "python",
     "metadata": {},
     "outputs": [
      {
       "metadata": {},
       "output_type": "pyout",
       "prompt_number": 86,
       "text": [
        "'GGCTGATTGAGCTAACCGCAAAACCGCCTTAGGCCTGATACGTTGCGTGGTGGCGTGTC\\n'"
       ]
      }
     ],
     "prompt_number": 86
    },
    {
     "cell_type": "code",
     "collapsed": false,
     "input": [
      "python_test.run_test(4, longest_line)"
     ],
     "language": "python",
     "metadata": {},
     "outputs": [
      {
       "output_type": "stream",
       "stream": "stdout",
       "text": [
        "Correct\n"
       ]
      }
     ],
     "prompt_number": 87
    },
    {
     "cell_type": "markdown",
     "metadata": {},
     "source": [
      "**(5)** Consider a file that contains protein names, with one name per line. Here is a sample of the file:\n",
      "\n",
      "        COL1A1\n",
      "        MED12\n",
      "        IREB2\n",
      "        GDF9\n",
      "        RXRG\n",
      "        CBFB\n",
      "        IREB2\n",
      "        TUBB\n",
      "\n",
      "\n",
      "Write a function `deduplicate(filename)` that reads in a file like this (one is provided as `names.txt`) and returns a unique list of names. If `names.txt` contained only the above example, then:\n",
      "\n",
      "        unique_names = deduplicate('names.txt')\n",
      "        print unique_names\n",
      "\n",
      "should print:\n",
      "\n",
      "        ['CBFB', 'COL1A1', 'GDF9', 'IREB2', 'MED12', 'RXRG', 'TUBB']\n",
      "        \n",
      "(The order of the names isn't important)\n",
      "\n",
      "**Marks:** 6"
     ]
    },
    {
     "cell_type": "code",
     "collapsed": false,
     "input": [
      "def deduplicate(filename):\n",
      "    fl = open(filename)\n",
      "    list_line = []\n",
      "    for line in fl:\n",
      "        line = line.rstrip()\n",
      "        list_line.append(line)\n",
      "    \n",
      "    for a in list_line:\n",
      "        for b in list_line:\n",
      "            if a == b:\n",
      "                new_list = list_line.remove(b)\n",
      "        print a\n",
      "                \n",
      "    \n",
      "        \n",
      "    "
     ],
     "language": "python",
     "metadata": {},
     "outputs": [],
     "prompt_number": 28
    },
    {
     "cell_type": "code",
     "collapsed": false,
     "input": [
      "deduplicate('names.txt')"
     ],
     "language": "python",
     "metadata": {},
     "outputs": [
      {
       "output_type": "stream",
       "stream": "stdout",
       "text": [
        "CBFB\n",
        "GAB1\n",
        "MED12\n",
        "PRKCZ\n",
        "RXRG\n",
        "TUBB\n",
        "SHC1\n",
        "IREB2\n",
        "COL5A1\n",
        "AGT\n",
        "CDK2\n"
       ]
      }
     ],
     "prompt_number": 29
    },
    {
     "cell_type": "code",
     "collapsed": false,
     "input": [
      "python_test.run_test(5, deduplicate)"
     ],
     "language": "python",
     "metadata": {},
     "outputs": [
      {
       "ename": "NameError",
       "evalue": "name 'python_test' is not defined",
       "output_type": "pyerr",
       "traceback": [
        "\u001b[1;31m---------------------------------------------------------------------------\u001b[0m\n\u001b[1;31mNameError\u001b[0m                                 Traceback (most recent call last)",
        "\u001b[1;32m<ipython-input-30-941f779f0589>\u001b[0m in \u001b[0;36m<module>\u001b[1;34m()\u001b[0m\n\u001b[1;32m----> 1\u001b[1;33m \u001b[0mpython_test\u001b[0m\u001b[1;33m.\u001b[0m\u001b[0mrun_test\u001b[0m\u001b[1;33m(\u001b[0m\u001b[1;36m5\u001b[0m\u001b[1;33m,\u001b[0m \u001b[0mdeduplicate\u001b[0m\u001b[1;33m)\u001b[0m\u001b[1;33m\u001b[0m\u001b[0m\n\u001b[0m",
        "\u001b[1;31mNameError\u001b[0m: name 'python_test' is not defined"
       ]
      }
     ],
     "prompt_number": 30
    },
    {
     "cell_type": "markdown",
     "metadata": {},
     "source": [
      "**(6)** The following code is a script that is intended to count how many times a protein name occurs in a file (you can use `names.txt` as the sample file). The script (with bugs) can be found in `bin/count_name.py` and is executable. The code has errors. Correct them:\n",
      "\n",
      "````\n",
      "#!/usr/bin/eenv python\n",
      "\n",
      "import sys\n",
      "\n",
      "def count_name(filename, protein_name):\n",
      "    input_file = open(sys.argv[1])\n",
      "    count = 0\n",
      "    for line in input_file:\n",
      "        if line.rstrip() == protein_name:\n",
      "            count += 1\n",
      "    return count\n",
      "\n",
      "if len(sys.argv) != 3:\n",
      "    sys.exit(\"Usage: count_name.py <protein names file> <protein name>\")\n",
      "\n",
      "filename = sys.argv[0]\n",
      "protein_name = sys.argv[1]\n",
      "name_count = count_name(filename, protein_name)\n",
      "print protein_name, name_count\n",
      "````\n",
      "\n",
      "**Marks:** 4\n"
     ]
    },
    {
     "cell_type": "code",
     "collapsed": false,
     "input": [
      "#!/usr/bin/eenv python\n",
      "\n",
      "import sys\n",
      "\n",
      "def count_name(input_file, protein_name):\n",
      "    count = 0\n",
      "    for line in input_file:\n",
      "        if line.rstrip() == protein_name:\n",
      "            count += 1\n",
      "    return count\n",
      "\n",
      "if len(sys.argv) != 2:\n",
      "    exit(\"Usage: count_name.py <filename>\")\n",
      "\n",
      "filename = sys.argv[1]\n",
      "protein_name = sys.argv[2]\n",
      "try:\n",
      "    input_file = open(filename)\n",
      "\n",
      "except IOError as e:\n",
      "    print >>sys.stderr, \"Couldn't open {}: {}\\n\".format(filename,e.sterror)\n",
      "    sys.exit(1)\n",
      "\n",
      "else:\n",
      "    count = file_stats(input_file)\n",
      "    print \"{}\".format(count,filename)\n"
     ],
     "language": "python",
     "metadata": {},
     "outputs": [
      {
       "ename": "NameError",
       "evalue": "name 'sterror' is not defined",
       "output_type": "pyerr",
       "traceback": [
        "\u001b[1;31m---------------------------------------------------------------------------\u001b[0m\n\u001b[1;31mNameError\u001b[0m                                 Traceback (most recent call last)",
        "\u001b[1;32m<ipython-input-1-5ca34fe94e9d>\u001b[0m in \u001b[0;36m<module>\u001b[1;34m()\u001b[0m\n\u001b[0;32m     19\u001b[0m \u001b[1;33m\u001b[0m\u001b[0m\n\u001b[0;32m     20\u001b[0m \u001b[1;32mexcept\u001b[0m \u001b[0mIOError\u001b[0m \u001b[1;32mas\u001b[0m \u001b[0me\u001b[0m\u001b[1;33m:\u001b[0m\u001b[1;33m\u001b[0m\u001b[0m\n\u001b[1;32m---> 21\u001b[1;33m     \u001b[1;32mprint\u001b[0m \u001b[1;33m>>\u001b[0m\u001b[0msys\u001b[0m\u001b[1;33m.\u001b[0m\u001b[0mstderr\u001b[0m\u001b[1;33m,\u001b[0m \u001b[1;34m\"Couldn't open {}: {}\\n\"\u001b[0m\u001b[1;33m.\u001b[0m\u001b[0mformat\u001b[0m\u001b[1;33m(\u001b[0m\u001b[0msterror\u001b[0m\u001b[1;33m)\u001b[0m\u001b[1;33m\u001b[0m\u001b[0m\n\u001b[0m\u001b[0;32m     22\u001b[0m     \u001b[0msys\u001b[0m\u001b[1;33m.\u001b[0m\u001b[0mexit\u001b[0m\u001b[1;33m(\u001b[0m\u001b[1;36m1\u001b[0m\u001b[1;33m)\u001b[0m\u001b[1;33m\u001b[0m\u001b[0m\n\u001b[0;32m     23\u001b[0m \u001b[1;33m\u001b[0m\u001b[0m\n",
        "\u001b[1;31mNameError\u001b[0m: name 'sterror' is not defined"
       ]
      }
     ],
     "prompt_number": 1
    },
    {
     "cell_type": "code",
     "collapsed": false,
     "input": [
      "python_test.run_test(6, None)"
     ],
     "language": "python",
     "metadata": {},
     "outputs": []
    },
    {
     "cell_type": "code",
     "collapsed": false,
     "input": [
      "print \"Total marks available:\", python_test.max_marks()"
     ],
     "language": "python",
     "metadata": {},
     "outputs": [
      {
       "output_type": "stream",
       "stream": "stdout",
       "text": [
        "Total marks available: 25\n"
       ]
      }
     ],
     "prompt_number": 2
    },
    {
     "cell_type": "code",
     "collapsed": false,
     "input": [],
     "language": "python",
     "metadata": {},
     "outputs": []
    }
   ],
   "metadata": {}
  }
 ]
}